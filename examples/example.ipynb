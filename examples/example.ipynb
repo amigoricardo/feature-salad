{
 "cells": [
  {
   "cell_type": "code",
   "execution_count": null,
   "metadata": {},
   "outputs": [],
   "source": [
    "from feature_salad import FeatureSalad"
   ]
  },
  {
   "cell_type": "code",
   "execution_count": null,
   "metadata": {},
   "outputs": [],
   "source": [
    "features = [\n",
    "    {\n",
    "        'n': 1,\n",
    "        'names': ['date'],\n",
    "        'dtype': 'datetime',\n",
    "        'between': ['2022-01-01', '2022-12-31']\n",
    "    },\n",
    "    {\n",
    "        'n': 2,\n",
    "        'dtype': 'category',\n",
    "        'distinct': 8\n",
    "    },\n",
    "    {\n",
    "        'n': 1,\n",
    "        'dtype': 'string'\n",
    "    },\n",
    "    {\n",
    "        'n': 1,\n",
    "        'dtype': 'category',\n",
    "        'made_of': 'integers',\n",
    "        'between': [30, 55]\n",
    "    },\n",
    "    {\n",
    "        'n': 1,\n",
    "        'dtype': 'string',\n",
    "        'made_of': 'integers',\n",
    "        'between': [10000, 20000]\n",
    "    },\n",
    "    {\n",
    "        'n': 1,\n",
    "        'dtype': 'boolean'\n",
    "    },\n",
    "    {\n",
    "        'n': 1,\n",
    "        'dtype': 'float',\n",
    "        'between': [0.5, 3.4]\n",
    "    },\n",
    "    {\n",
    "        'n': 1,\n",
    "        'dtype': 'int',\n",
    "        'between': [20, 80]\n",
    "    }\n",
    "]"
   ]
  },
  {
   "cell_type": "code",
   "execution_count": null,
   "metadata": {},
   "outputs": [],
   "source": [
    "fs = FeatureSalad(\n",
    "    features=features,\n",
    "    samples=100\n",
    ")"
   ]
  },
  {
   "cell_type": "code",
   "execution_count": null,
   "metadata": {},
   "outputs": [],
   "source": [
    "fs.generate()"
   ]
  },
  {
   "cell_type": "code",
   "execution_count": null,
   "metadata": {},
   "outputs": [],
   "source": [
    "fs.X.to_parquet('salad.parquet')\n",
    "fs.X.to_csv('salad.csv')"
   ]
  },
  {
   "cell_type": "code",
   "execution_count": null,
   "metadata": {},
   "outputs": [],
   "source": [
    "fs.X.head()"
   ]
  },
  {
   "cell_type": "code",
   "execution_count": null,
   "metadata": {},
   "outputs": [],
   "source": []
  }
 ],
 "metadata": {
  "kernelspec": {
   "display_name": ".venv",
   "language": "python",
   "name": "python3"
  },
  "language_info": {
   "codemirror_mode": {
    "name": "ipython",
    "version": 3
   },
   "file_extension": ".py",
   "mimetype": "text/x-python",
   "name": "python",
   "nbconvert_exporter": "python",
   "pygments_lexer": "ipython3",
   "version": "3.11.2"
  },
  "orig_nbformat": 4
 },
 "nbformat": 4,
 "nbformat_minor": 2
}
